{
 "cells": [
  {
   "cell_type": "markdown",
   "id": "905fcee2",
   "metadata": {},
   "source": [
    "All the functions we need are in the file **data_grabber.py**. In the future I'd like to make this tool pip-installable, but for now you need to actually put data_grabber.py in the directory you're working in and import it."
   ]
  },
  {
   "cell_type": "code",
   "execution_count": 1,
   "id": "087715ca",
   "metadata": {},
   "outputs": [],
   "source": [
    "from data_grabber import *"
   ]
  },
  {
   "cell_type": "markdown",
   "id": "b338e2b6",
   "metadata": {},
   "source": [
    "Next, just copy and paste the URL of the market you're trying to get data for."
   ]
  },
  {
   "cell_type": "code",
   "execution_count": 2,
   "id": "0bb6ac78",
   "metadata": {},
   "outputs": [],
   "source": [
    "url = \"https://manifold.markets/QuantumObserver/will-the-lk99-room-temp-ambient-pre\""
   ]
  },
  {
   "cell_type": "markdown",
   "id": "f6bb6a61",
   "metadata": {},
   "source": [
    "Then, you can use the **get_data()** function to pull the price vs time data from the URL page. There are a couple different ways to use **get_data()**. The simplest is to just pass in the URL, with no other arguments. This returns a list containing two lists -- the first is a list of datetimes, and the second is a list of corresponding prices at each datetime. **Imporant -- these times are all East Coast US time (since I mostly wrote this tool for myself to use. But if other people start actually using it I'll add in better support for different timezones.**"
   ]
  },
  {
   "cell_type": "code",
   "execution_count": 3,
   "id": "0d324211",
   "metadata": {},
   "outputs": [
    {
     "name": "stdout",
     "output_type": "stream",
     "text": [
      "getting data...\n",
      "done\n"
     ]
    }
   ],
   "source": [
    "[times, prices] = get_data(url)"
   ]
  },
  {
   "cell_type": "markdown",
   "id": "bc94b31c",
   "metadata": {},
   "source": [
    "Then you can do whatever you want with the data. Maybe you want to plot it, for example:"
   ]
  },
  {
   "cell_type": "code",
   "execution_count": 4,
   "id": "eb61f027",
   "metadata": {},
   "outputs": [
    {
     "data": {
      "image/png": "[encoded data removed]",
      "text/plain": [
       "<Figure size 640x480 with 1 Axes>"
      ]
     },
     "metadata": {},
     "output_type": "display_data"
    }
   ],
   "source": [
    "import matplotlib.pyplot as plt\n",
    "\n",
    "plt.plot(times,prices,color='Blue')\n",
    "\n",
    "plt.xticks(fontsize=4) \n",
    "plt.ylabel(\"Price\",fontsize=16)\n",
    "plt.xlabel(\"Time\",fontsize=16)\n",
    "plt.title(\"LK-99 Replication Market\",fontsize=16)\n",
    "plt.show()"
   ]
  },
  {
   "cell_type": "markdown",
   "id": "538c3c11",
   "metadata": {},
   "source": [
    "With **get_data()** you can also choose to write the results to a CSV rather than storing them in Python variables (or do both at the same time). For example:"
   ]
  },
  {
   "cell_type": "code",
   "execution_count": 5,
   "id": "f4b01f79",
   "metadata": {},
   "outputs": [
    {
     "name": "stdout",
     "output_type": "stream",
     "text": [
      "getting data...\n",
      "writing csv...\n",
      "done\n"
     ]
    }
   ],
   "source": [
    "get_data(url, csv_file=\"output.csv\");\n",
    "\n",
    "## if you want to do both, just write:\n",
    "## [times,prices] = get_data(url, csv_file=\"output.csv\")"
   ]
  },
  {
   "cell_type": "markdown",
   "id": "5ea47391",
   "metadata": {},
   "source": [
    "So far, we've been pulling all of the timeseries data available for the market (from the earliest possible time, to the most recent). But if you want, you can define a start time and end time to limit your results. These need to be defined as datetime objects, like this:"
   ]
  },
  {
   "cell_type": "code",
   "execution_count": 6,
   "id": "5a156b97",
   "metadata": {},
   "outputs": [],
   "source": [
    "from datetime import datetime\n",
    "\n",
    "start_time = \"2023-07-29 00:00:00\"\n",
    "est = pytz.timezone('US/Eastern')\n",
    "start_time = datetime.strptime(start_time, '%Y-%m-%d %H:%M:%S')\n",
    "start_time = est.localize(start_time)\n",
    "\n",
    "end_time = \"2023-07-31 00:00:00\"\n",
    "end_time = datetime.strptime(end_time, '%Y-%m-%d %H:%M:%S')\n",
    "end_time = est.localize(end_time)"
   ]
  },
  {
   "cell_type": "markdown",
   "id": "92ad5a34",
   "metadata": {},
   "source": [
    "Yeah, unfortunately dealing with the date formats is a bit of a hassle now. In the future I'd like to improve it and make it easier.\n",
    "\n",
    "Anyway, after defining these **start_time** and **end_time** variables, you can pass them into **get_data()** like so:"
   ]
  },
  {
   "cell_type": "code",
   "execution_count": 7,
   "id": "1e382a80",
   "metadata": {},
   "outputs": [
    {
     "name": "stdout",
     "output_type": "stream",
     "text": [
      "getting data...\n",
      "done\n"
     ]
    }
   ],
   "source": [
    "[times,prices] = get_data(url, start_time=start_time, end_time=end_time)"
   ]
  },
  {
   "cell_type": "markdown",
   "id": "88eb535f",
   "metadata": {},
   "source": [
    "Another thing you can do is pass in an **interval** argument, which can be either \"day\", \"hour\", \"minute\", or \"second\". This will give the output at these time intervals. For example, this is how to get the price at each hour:"
   ]
  },
  {
   "cell_type": "code",
   "execution_count": 8,
   "id": "95f9ac8e",
   "metadata": {},
   "outputs": [
    {
     "name": "stdout",
     "output_type": "stream",
     "text": [
      "getting data...\n",
      "done\n"
     ]
    }
   ],
   "source": [
    "[times,prices] = get_data(url, start_time=start_time, end_time=end_time, interval=\"hour\")"
   ]
  },
  {
   "cell_type": "markdown",
   "id": "50dd057f",
   "metadata": {},
   "source": [
    "If you have any questions or feature requests, feel free to email me at *mikest@udel.edu*. Lastly I just want to end by thanking Manifold Markets for doing awesome work and making their API publicly available for hobbyists like me. They're a great company and I encourage you to sign up for an account with them if you haven't already."
   ]
  },
  {
   "cell_type": "code",
   "execution_count": null,
   "id": "0c158763",
   "metadata": {},
   "outputs": [],
   "source": []
  }
 ],
 "metadata": {
  "kernelspec": {
   "display_name": "Python 3 (ipykernel)",
   "language": "python",
   "name": "python3"
  },
  "language_info": {
   "codemirror_mode": {
    "name": "ipython",
    "version": 3
   },
   "file_extension": ".py",
   "mimetype": "text/x-python",
   "name": "python",
   "nbconvert_exporter": "python",
   "pygments_lexer": "ipython3",
   "version": "3.9.13"
  }
 },
 "nbformat": 4,
 "nbformat_minor": 5
}
